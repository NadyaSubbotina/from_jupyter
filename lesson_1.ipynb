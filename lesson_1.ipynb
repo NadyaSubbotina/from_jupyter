{
 "cells": [
  {
   "cell_type": "code",
   "execution_count": 6,
   "id": "9f44b051",
   "metadata": {},
   "outputs": [
    {
     "name": "stdout",
     "output_type": "stream",
     "text": [
      "С\n",
      "у\n",
      "б\n",
      "б\n",
      "о\n",
      "т\n",
      "и\n",
      "н\n",
      "а\n",
      " \n",
      "Н\n",
      "а\n",
      "д\n",
      "е\n",
      "ж\n",
      "д\n",
      "а\n",
      " \n",
      "А\n",
      "л\n",
      "е\n",
      "к\n",
      "с\n",
      "а\n",
      "н\n",
      "д\n",
      "р\n",
      "о\n",
      "в\n",
      "н\n",
      "а\n"
     ]
    }
   ],
   "source": [
    "# 1. Написать цикл для выведения на экран каждой буквы своего ФИО.\n",
    "\n",
    "name = 'Субботина Надежда Александровна'\n",
    "\n",
    "for i in name:\n",
    "    print(i)"
   ]
  },
  {
   "cell_type": "code",
   "execution_count": 8,
   "id": "43b9909c",
   "metadata": {},
   "outputs": [
    {
     "data": {
      "text/plain": [
       "1.71"
      ]
     },
     "execution_count": 8,
     "metadata": {},
     "output_type": "execute_result"
    }
   ],
   "source": [
    "# 2. Написать функцию для перевода доллара в евро c округлением до 2х знаков после запятой, если известно, что текущий курс составляет 1.17 долларов за один евро.\n",
    "\n",
    "def dollar_euro(dollar):\n",
    "    euro = round(dollar / 1.17, 2)\n",
    "    return euro\n",
    "\n",
    "dollar_euro(2)"
   ]
  },
  {
   "cell_type": "code",
   "execution_count": null,
   "id": "b0291e09",
   "metadata": {},
   "outputs": [],
   "source": []
  }
 ],
 "metadata": {
  "kernelspec": {
   "display_name": "Python 3 (ipykernel)",
   "language": "python",
   "name": "python3"
  },
  "language_info": {
   "codemirror_mode": {
    "name": "ipython",
    "version": 3
   },
   "file_extension": ".py",
   "mimetype": "text/x-python",
   "name": "python",
   "nbconvert_exporter": "python",
   "pygments_lexer": "ipython3",
   "version": "3.11.2"
  }
 },
 "nbformat": 4,
 "nbformat_minor": 5
}
